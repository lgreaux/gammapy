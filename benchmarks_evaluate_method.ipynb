{
 "cells": [
  {
   "cell_type": "code",
   "execution_count": 1,
   "id": "198d62f7",
   "metadata": {},
   "outputs": [],
   "source": [
    "from gammapy.modeling.models import (\n",
    "    EBLAbsorptionNormSpectralModel,\n",
    "    PowerLawSpectralModel,\n",
    "    CompoundSpectralModel,\n",
    ")\n",
    "\n",
    "import astropy.units as u\n",
    "import numpy as np\n",
    "\n",
    "import time\n",
    "import operator\n",
    "\n",
    "import matplotlib.pyplot as plt"
   ]
  },
  {
   "cell_type": "code",
   "execution_count": 2,
   "id": "a4075b7a",
   "metadata": {},
   "outputs": [],
   "source": [
    "class CompoundWithEvaluate(CompoundSpectralModel):\n",
    "    \n",
    "    def evaluate(self, energy, *args):\n",
    "        args1 = args[:len(self.model1.parameters)]\n",
    "        args2 = args[len(self.model1.parameters):]\n",
    "        vals1 = self.model1.evaluate(energy, *args1)\n",
    "        vals2 = self.model2.evaluate(energy, *args2)\n",
    "        return self.operator(vals1, vals2)"
   ]
  },
  {
   "cell_type": "code",
   "execution_count": 3,
   "id": "b376e2b7",
   "metadata": {},
   "outputs": [],
   "source": [
    "nb_loops = 100\n",
    "nb_points = 1000\n",
    "\n",
    "E = np.geomspace(0.1, 10, 100) * u.TeV\n",
    "index = np.linspace(1.5, 2.5, nb_points)\n",
    "alpha_norm = np.linspace(0.9, 1.1, nb_points)\n",
    "z = 0.3\n",
    "amplitude = 1e-12 *u.cm**-2 *u.s**-1 *u.TeV**-1\n",
    "reference = 1 *u.TeV\n",
    "\n",
    "ebl = EBLAbsorptionNormSpectralModel.read_builtin(\"dominguez\", redshift=z, alpha_norm=2)\n",
    "ebl.parameters[\"alpha_norm\"].frozen = False\n",
    "pwl = PowerLawSpectralModel(reference=reference, index=2, amplitude=amplitude)\n",
    "\n",
    "evaluate_model = CompoundWithEvaluate(ebl, pwl, operator.mul)\n",
    "compound_model = CompoundSpectralModel(ebl, pwl, operator.mul)"
   ]
  },
  {
   "cell_type": "code",
   "execution_count": 4,
   "id": "f68e58b9",
   "metadata": {},
   "outputs": [],
   "source": [
    "def bench_evaluate():\n",
    "    _time = time.time()\n",
    "    output = None\n",
    "    for _ in range(nb_loops):\n",
    "        args = [z, alpha_norm, index, amplitude, reference]\n",
    "        output = evaluate_model.evaluate(E[:,None], *args)\n",
    "    print(\"Evaluate method  : {:.3f} s\".format(time.time()-_time))\n",
    "    return np.array(output)\n",
    "\n",
    "def bench_compound():\n",
    "    _time = time.time()\n",
    "    output = None\n",
    "    for _ in range(nb_loops):\n",
    "        output = []\n",
    "        for alp, ind in zip(alpha_norm, index):\n",
    "            args = [alp, ind, amplitude.value]\n",
    "            compound_model.parameters.set_parameter_factors(args)\n",
    "            output.append(compound_model(E))\n",
    "    print(\"Call on the model: {:.3f} s\".format(time.time()-_time))\n",
    "    return np.array(output).T"
   ]
  },
  {
   "cell_type": "code",
   "execution_count": 5,
   "id": "85c436bb",
   "metadata": {},
   "outputs": [
    {
     "name": "stdout",
     "output_type": "stream",
     "text": [
      "Evaluate method  : 0.290 s\n",
      "Call on the model: 35.547 s\n"
     ]
    }
   ],
   "source": [
    "out_eval = bench_evaluate()\n",
    "out_call = bench_compound()"
   ]
  },
  {
   "cell_type": "code",
   "execution_count": 6,
   "id": "9724f95f",
   "metadata": {},
   "outputs": [
    {
     "data": {
      "image/png": "[encoded data removed]",
      "text/plain": [
       "<Figure size 432x288 with 1 Axes>"
      ]
     },
     "metadata": {
      "needs_background": "light"
     },
     "output_type": "display_data"
    }
   ],
   "source": [
    "assert (out_eval == out_call).all()\n",
    "\n",
    "for y in out_eval.T:\n",
    "    plt.plot(E, y, color='k', alpha=0.1)\n",
    "    \n",
    "plt.xscale(\"log\")\n",
    "plt.yscale(\"log\")\n",
    "plt.xlabel(r\"E [TeV]\")\n",
    "plt.ylabel(r\"dnde [TeV$^{-1}$ cm$^{-2}$ s$^{-1}$]\")\n",
    "\n",
    "plt.show()"
   ]
  }
 ],
 "metadata": {
  "kernelspec": {
   "display_name": "Python 3 (ipykernel)",
   "language": "python",
   "name": "python3"
  },
  "language_info": {
   "codemirror_mode": {
    "name": "ipython",
    "version": 3
   },
   "file_extension": ".py",
   "mimetype": "text/x-python",
   "name": "python",
   "nbconvert_exporter": "python",
   "pygments_lexer": "ipython3",
   "version": "3.8.13"
  }
 },
 "nbformat": 4,
 "nbformat_minor": 5
}
